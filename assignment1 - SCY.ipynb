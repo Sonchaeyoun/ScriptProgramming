{
 "cells": [
  {
   "cell_type": "markdown",
   "metadata": {},
   "source": [
    "# 과제 1번 - 2016136062 손채연"
   ]
  },
  {
   "cell_type": "markdown",
   "metadata": {},
   "source": [
    "### 1번 문제"
   ]
  },
  {
   "cell_type": "markdown",
   "metadata": {},
   "source": [
    "* a=\"Hello Python\" 문자열을 Slicing과 연결 연산자 (+)를 사용하여 \"Python Hello\"로 변경하시오.\n",
    "    * [주의] a 변수 자체에 \"Python Hello\" 문자열이 저장되어야 함"
   ]
  },
  {
   "cell_type": "code",
   "execution_count": 33,
   "metadata": {},
   "outputs": [
    {
     "name": "stdout",
     "output_type": "stream",
     "text": [
      "Python Hello\n"
     ]
    }
   ],
   "source": [
    "a = \"Hello Python\"\n",
    "a1 = a[:5]\n",
    "a2 = a[6:12]\n",
    "a = a2 + ' ' + a1\n",
    "print(a)"
   ]
  },
  {
   "cell_type": "markdown",
   "metadata": {},
   "source": [
    "\"Hello Python\"을 \"Python Hello\"로 변경하기 위해 \"Hello\"와 \"Python\"을 각각 슬라이싱해 각각의 변수에 저장하였다. 그리고 그것을 연결 연산자(+)를 사용하여 원래의 순서와 반대로 연결하였다. 그런데 이때 \"Python Hello\"로 바꾸어야 하므로 원본 문자열이 \" Hello Python\"이나 \"Hello Python \"이 아니면 가운데 공백을 해결할 수 없다고 판단하여 직접 ' '을 넣어주었다."
   ]
  },
  {
   "cell_type": "markdown",
   "metadata": {},
   "source": [
    "### 2번 문제"
   ]
  },
  {
   "cell_type": "markdown",
   "metadata": {},
   "source": [
    "* b=\"Hello Python World\" 문자열을 Slicing과 연결 연산자 (+)를 사용하여 \"World Python Hello\"로 변경하시오.\n",
    "    * [주의] b 변수 자체에 \"Python Hello\" 문자열이 저장되어야 함"
   ]
  },
  {
   "cell_type": "code",
   "execution_count": 29,
   "metadata": {},
   "outputs": [
    {
     "name": "stdout",
     "output_type": "stream",
     "text": [
      "World Python Hello\n"
     ]
    }
   ],
   "source": [
    "b = \"Hello Python World\"\n",
    "b1 = b[0:5]\n",
    "b2 = b[5:13]\n",
    "b3 = b[13:18]\n",
    "b = b3+b2+b1\n",
    "print(b)"
   ]
  },
  {
   "cell_type": "markdown",
   "metadata": {},
   "source": [
    "\"Hello Python World\"를 \"World Python Hello\"로 변경하기 위해 \"World\", \" Python \", \"World\"를 각각 슬라이싱해 각각의 변수에 저장하였다. 그리고 그것을 연결 연산자(+)를 사용하여 원하는 순서대로 연결하였다."
   ]
  },
  {
   "cell_type": "markdown",
   "metadata": {},
   "source": [
    "### 3번 문제"
   ]
  },
  {
   "cell_type": "markdown",
   "metadata": {},
   "source": [
    "* c=\"Hello\"를 \"olleH\"로 변경하시오\n",
    "    * [주의] c 변수 자체에 \"olleH\" 문자열이 저장되어야 함"
   ]
  },
  {
   "cell_type": "code",
   "execution_count": 34,
   "metadata": {},
   "outputs": [
    {
     "name": "stdout",
     "output_type": "stream",
     "text": [
      "olleH\n"
     ]
    }
   ],
   "source": [
    "c = \"Hello\"\n",
    "c = c[::-1]\n",
    "print(c)"
   ]
  },
  {
   "cell_type": "markdown",
   "metadata": {},
   "source": [
    "변경하고자 하는 문자열이 c일때, c[::-1]하면 step이 -1이므로 역순으로 1칸씩 출력된다."
   ]
  },
  {
   "cell_type": "markdown",
   "metadata": {},
   "source": [
    "### 4번 문제"
   ]
  },
  {
   "cell_type": "markdown",
   "metadata": {},
   "source": [
    "* s=\"python\"에 대해 다음 문제를 풀어보시오."
   ]
  },
  {
   "cell_type": "markdown",
   "metadata": {},
   "source": [
    "            1. s=\"python\"에 대해 다음 문제를 풀어보시오.\n",
    "            2. s[-100], s[100]은 값이 나오는지 에러가 나오는지 확인하고 그 결과에 대한 이유를 나름대로 설명해 보시오."
   ]
  },
  {
   "cell_type": "code",
   "execution_count": 32,
   "metadata": {},
   "outputs": [
    {
     "ename": "IndexError",
     "evalue": "string index out of range",
     "output_type": "error",
     "traceback": [
      "\u001b[1;31m---------------------------------------------------------------------------\u001b[0m",
      "\u001b[1;31mIndexError\u001b[0m                                Traceback (most recent call last)",
      "\u001b[1;32m<ipython-input-32-3946784cd507>\u001b[0m in \u001b[0;36m<module>\u001b[1;34m()\u001b[0m\n\u001b[0;32m      1\u001b[0m \u001b[0ms\u001b[0m \u001b[1;33m=\u001b[0m \u001b[1;34m'python'\u001b[0m\u001b[1;33m\u001b[0m\u001b[0m\n\u001b[1;32m----> 2\u001b[1;33m \u001b[0mprint\u001b[0m\u001b[1;33m(\u001b[0m\u001b[0ms\u001b[0m\u001b[1;33m[\u001b[0m\u001b[1;33m-\u001b[0m\u001b[1;36m100\u001b[0m\u001b[1;33m]\u001b[0m\u001b[1;33m)\u001b[0m\u001b[1;33m\u001b[0m\u001b[0m\n\u001b[0m\u001b[0;32m      3\u001b[0m \u001b[0mprint\u001b[0m\u001b[1;33m(\u001b[0m\u001b[0ms\u001b[0m\u001b[1;33m[\u001b[0m\u001b[1;36m100\u001b[0m\u001b[1;33m]\u001b[0m\u001b[1;33m)\u001b[0m\u001b[1;33m\u001b[0m\u001b[0m\n",
      "\u001b[1;31mIndexError\u001b[0m: string index out of range"
     ]
    }
   ],
   "source": [
    "s = \"python\"\n",
    "print(s[-100])\n",
    "print(s[100])"
   ]
  },
  {
   "cell_type": "markdown",
   "metadata": {},
   "source": [
    "s[-100], s[100]은 에러가 나온다. 왜냐하면 문자열 s는 그 인덱스가 5까지밖에(역순으로 해도 -6까지 뿐임) 없기 때문이다. 있지도 않은 인덱스-100이나 100의 값을 찾으라고 하면 에러가 나오는 것이 당연하다."
   ]
  },
  {
   "cell_type": "markdown",
   "metadata": {},
   "source": [
    "    3. s[-100, 100]은 값이 나오는지 에러가 나오는지 확인하고 그 결과에 대한 이유를 나름대로 설명해 보시오."
   ]
  },
  {
   "cell_type": "code",
   "execution_count": 38,
   "metadata": {},
   "outputs": [
    {
     "ename": "TypeError",
     "evalue": "string indices must be integers",
     "output_type": "error",
     "traceback": [
      "\u001b[1;31m---------------------------------------------------------------------------\u001b[0m",
      "\u001b[1;31mTypeError\u001b[0m                                 Traceback (most recent call last)",
      "\u001b[1;32m<ipython-input-38-1c2badf6abfb>\u001b[0m in \u001b[0;36m<module>\u001b[1;34m()\u001b[0m\n\u001b[0;32m      1\u001b[0m \u001b[0ms\u001b[0m \u001b[1;33m=\u001b[0m \u001b[1;34m\"Python\"\u001b[0m\u001b[1;33m\u001b[0m\u001b[0m\n\u001b[1;32m----> 2\u001b[1;33m \u001b[0mprint\u001b[0m\u001b[1;33m(\u001b[0m\u001b[0ms\u001b[0m\u001b[1;33m[\u001b[0m\u001b[1;33m-\u001b[0m\u001b[1;36m100\u001b[0m\u001b[1;33m,\u001b[0m \u001b[1;36m100\u001b[0m\u001b[1;33m]\u001b[0m\u001b[1;33m)\u001b[0m\u001b[1;33m\u001b[0m\u001b[0m\n\u001b[0m",
      "\u001b[1;31mTypeError\u001b[0m: string indices must be integers"
     ]
    }
   ],
   "source": [
    "s = \"Python\"\n",
    "print(s[-100, 100])"
   ]
  },
  {
   "cell_type": "markdown",
   "metadata": {},
   "source": [
    "s[-100, 100]은 에러가 나온다. s는 단순한 문자열이기 때문에 []안에 하나의 인덱스만 있어야 제대로 출력될 수 있기 때문이다."
   ]
  },
  {
   "cell_type": "markdown",
   "metadata": {},
   "source": [
    "    4. s[1:-1]의 결과를 확인하고 그 결과에 대한 이유를 정확하게 설명하시오."
   ]
  },
  {
   "cell_type": "code",
   "execution_count": 39,
   "metadata": {},
   "outputs": [
    {
     "name": "stdout",
     "output_type": "stream",
     "text": [
      "ytho\n"
     ]
    }
   ],
   "source": [
    "s = \"Python\"\n",
    "print(s[1:-1])"
   ]
  },
  {
   "cell_type": "markdown",
   "metadata": {},
   "source": [
    "s[1:-1]의 결과는 ytho이다. 왜냐하면 s[1:-1]은 문자열의 인덱스 1에서 시작해서 인덱스 -2에서 끝난다는 의미를 가지고 있기 때문이다. 따라서 print(s[1:-1])을 하면 인덱스 1에 있는 y부터 인덱스 -2에 있는 o까지 출력된다."
   ]
  },
  {
   "cell_type": "markdown",
   "metadata": {},
   "source": [
    "    5. s[3:-3]의 결과를 확인하고 그 결과에 대한 이유를 정확하게 설명하시오."
   ]
  },
  {
   "cell_type": "code",
   "execution_count": 42,
   "metadata": {},
   "outputs": [
    {
     "name": "stdout",
     "output_type": "stream",
     "text": [
      "\n"
     ]
    }
   ],
   "source": [
    "s = \"Python\"\n",
    "print(s[3:-3])"
   ]
  },
  {
   "cell_type": "markdown",
   "metadata": {},
   "source": [
    "print(s[3:-3])을 하면 아무것도 출력되지 않는다. 왜냐하면 s[3:-3]의 의미는 문자열의 인덱스 3에서 시작해서 인덱스 -4에서 끝난다는 의미이기 때문이다. 인덱스 3에 있는 문자는 h고 인덱스 -4에 있는 문자는 t인데 역순출력도 아니므로 출력되지 않는다."
   ]
  },
  {
   "cell_type": "markdown",
   "metadata": {},
   "source": [
    "### 5번 문제"
   ]
  },
  {
   "cell_type": "markdown",
   "metadata": {},
   "source": [
    "* for문을 활용하여 1부터 100사이의 홀수를 출력하시오."
   ]
  },
  {
   "cell_type": "code",
   "execution_count": 48,
   "metadata": {},
   "outputs": [
    {
     "name": "stdout",
     "output_type": "stream",
     "text": [
      "1\n",
      "3\n",
      "5\n",
      "7\n",
      "9\n",
      "11\n",
      "13\n",
      "15\n",
      "17\n",
      "19\n",
      "21\n",
      "23\n",
      "25\n",
      "27\n",
      "29\n",
      "31\n",
      "33\n",
      "35\n",
      "37\n",
      "39\n",
      "41\n",
      "43\n",
      "45\n",
      "47\n",
      "49\n",
      "51\n",
      "53\n",
      "55\n",
      "57\n",
      "59\n",
      "61\n",
      "63\n",
      "65\n",
      "67\n",
      "69\n",
      "71\n",
      "73\n",
      "75\n",
      "77\n",
      "79\n",
      "81\n",
      "83\n",
      "85\n",
      "87\n",
      "89\n",
      "91\n",
      "93\n",
      "95\n",
      "97\n",
      "99\n"
     ]
    }
   ],
   "source": [
    "for x in range(1,101):\n",
    "    if x % 2 == 1:\n",
    "        print(x)"
   ]
  },
  {
   "cell_type": "markdown",
   "metadata": {},
   "source": [
    "1부터 100사이의 홀수를 구하기 위해서 range(1, 101)을 컨테이너 객체로 지정해주었다. 그리고 for문 안에서 range안에 있는 숫자들 중 2로 나누었을 때 나머지가 1인 수, 즉 홀수를 출력하도록 했다."
   ]
  },
  {
   "cell_type": "markdown",
   "metadata": {},
   "source": [
    "### 6번 문제"
   ]
  },
  {
   "cell_type": "markdown",
   "metadata": {},
   "source": [
    "* while문을 활용하여 1부터 100사이의 짝수의 합을 계산하여 출력하시오."
   ]
  },
  {
   "cell_type": "code",
   "execution_count": 50,
   "metadata": {},
   "outputs": [
    {
     "name": "stdout",
     "output_type": "stream",
     "text": [
      "2550\n"
     ]
    }
   ],
   "source": [
    "sum = 0\n",
    "count = 1\n",
    "while count < 101:\n",
    "    if count % 2 == 0:\n",
    "        sum = sum + count\n",
    "    count = count + 1\n",
    "print(sum)"
   ]
  },
  {
   "cell_type": "markdown",
   "metadata": {
    "collapsed": true
   },
   "source": [
    "1부터 100사이의 짝수의 합을 계산하기 위해 while문 안에서 if문을 사용해 짝수를 판별하여 그들을 미리 선언해둔 짝수의 합을 나타내는 변수인 sum에 누적하여 더했다. 이때, 짝수는 2로 나누었을 때 나머지가 0인 수들을 거르는 방식으로 판별했다."
   ]
  },
  {
   "cell_type": "markdown",
   "metadata": {},
   "source": [
    "### 7번 문제"
   ]
  },
  {
   "cell_type": "markdown",
   "metadata": {},
   "source": [
    "* 사용자로 부터 임의의 정수를 입력받고, 해당 숫자를 역순으로 출력하는 프로그램을 작성하시오.\n",
    "    * [실행 예]\n",
    "\n",
    "      정수를 입력하세요: 3125  \n",
    "      숫자 역순은 5213 입니다."
   ]
  },
  {
   "cell_type": "code",
   "execution_count": 14,
   "metadata": {},
   "outputs": [
    {
     "name": "stdout",
     "output_type": "stream",
     "text": [
      "정수를 입력하세요:3125\n",
      "숫자 역순은 5213입니다.\n"
     ]
    }
   ],
   "source": [
    "n = int(input('정수를 입력하세요:'))\n",
    "reverse_n = 0\n",
    "while n != 0:\n",
    "    reverse_n = (reverse_n * 10) + (n % 10)\n",
    "    n //= 10\n",
    "print(\"숫자 역순은 %d입니다.\"%(reverse_n))"
   ]
  },
  {
   "cell_type": "markdown",
   "metadata": {
    "collapsed": true
   },
   "source": [
    "정수를 역순으로 만들기 위해서는 반복문을 사용해야 한다. 반복문 안에는 reverse_n(숫자 역순 저장 변수) = (reverse_n * 10) + (n(사용자로부터 입력받은 수) % 10)이라는 식이 필요하다. 낮은 자리에 있던 수를 높은 자리로 끌어올려야 하기 때문이다. 원래의 수를 10으로 나누면 그 나머지로 가장 낮은 자리의 수가 나온다. 이를 높은 자리의 수로 옮기기 위해서는 이것을 앞서 같은 과정을 반복하여 숫자 역순 저장 변수에 저장된 수를 10과 곱한 것과 더하여 숫자 역순 저장 변수에 저장하여야 한다. 그런데 반복문이 계속 돌아가야 하기 때문에 사용자로부터 입력받은 수는 반복문이 한번 돌때마다 그것을 10으로 나눈 몫으로 갱신되어야 한다. 이렇게 계속 반복하여 사용자로부터 입력받은 수가 0이 되면 반복문은 종료되고 숫자 역순 저장 변수에는 완벽히 원래의 숫자에서 역순으로 된 숫자가 저장된다."
   ]
  },
  {
   "cell_type": "markdown",
   "metadata": {},
   "source": [
    "### 8번 문제"
   ]
  },
  {
   "cell_type": "markdown",
   "metadata": {},
   "source": [
    "* 사용자로 부터 정수를 입력받아서 1부터 그 사이에 존재하는 소수 (Prime number)를 출력하는 파이썬 프로그램을 작성하시오."
   ]
  },
  {
   "cell_type": "code",
   "execution_count": 26,
   "metadata": {},
   "outputs": [
    {
     "name": "stdout",
     "output_type": "stream",
     "text": [
      "정수를 입력하세요:10\n",
      "2\n",
      "3\n",
      "5\n",
      "7\n"
     ]
    }
   ],
   "source": [
    "n = int(input('정수를 입력하세요:'))\n",
    "\n",
    "for x in range(1, n+1):\n",
    "    if x == 2:\n",
    "        print(x)\n",
    "    for y in range(2, x):\n",
    "        if x % y == 0:\n",
    "            break\n",
    "        elif y == x - 1:\n",
    "            print(x)"
   ]
  },
  {
   "cell_type": "markdown",
   "metadata": {},
   "source": [
    "소수를 구하기 위해서는 중첩 반복문과 if문을 사용해야 한다. 1부터 입력받은 정수까지 for문을 돌리는데, 2가 나오면 2는 당연히 소수이므로 미리 출력한다. 그리고 그 이후의 숫자가 나오면 내부 for문을 사용해서 소수인지를 판정한다. 소수는 약수가 1과 대상 수뿐인 자연수이므로 만약 대상 수보다 작은 수로 나누었을 때 그 나머지가 0이 나오면 소수가 아니라고 판정하고 break를 사용해 내부 for문에서 탈출한다. 만약 대상 수보다 작은 수들로 모두 나누었는데 그 나머지가 0이 나온 적이 단 한 번도 없으면 소수이므로 대상 수보다 작은 수들과 모두 나머지를 구해 봤다는 것을 판정해 주는 elif문까지 도달하여 대상 수를 출력한다."
   ]
  },
  {
   "cell_type": "markdown",
   "metadata": {},
   "source": [
    "### ACM-ICPC 문제 2439번"
   ]
  },
  {
   "cell_type": "markdown",
   "metadata": {},
   "source": [
    "* 첫째 줄에는 별 1개, 둘째 줄에는 별 2개, N번째 줄에는 별 N개를 찍는 문제  \n",
    "하지만, 오른쪽을 기준으로 정렬한 별 (예제 참고)을 출력하시오.\n",
    "    * 입력 : 첫째 줄에 N (1<=N<=100)이 주어진다.\n",
    "    * 출력 : 첫째 줄부터 N번째 줄 까지 차례대로 별을 출력한다."
   ]
  },
  {
   "cell_type": "code",
   "execution_count": 30,
   "metadata": {},
   "outputs": [
    {
     "name": "stdout",
     "output_type": "stream",
     "text": [
      "5\n",
      "    *\n",
      "   **\n",
      "  ***\n",
      " ****\n",
      "*****\n"
     ]
    }
   ],
   "source": [
    "n = int(input())\n",
    "\n",
    "for x in range(1, n+1):\n",
    "    for y in range(1, n-x+1):\n",
    "        print(\" \",end=\"\")\n",
    "    for z in range(1, x+1):\n",
    "        print(\"*\",end=\"\")\n",
    "    print()"
   ]
  },
  {
   "cell_type": "markdown",
   "metadata": {},
   "source": [
    "![image description](https://github.com/Sonchaeyoun/2017-Script-Programming/blob/master/image/2439.PNG?raw=true)"
   ]
  },
  {
   "cell_type": "markdown",
   "metadata": {},
   "source": [
    "이 문제를 풀기 위해서는 각 단과 별의 개수, 그리고 공백의 개수의 관계에 대한 이해가 필요하다. 위에서부터가 1층이라고 하면, 1층에는 공백이 4개, 별이 1개 있다. 이를 통해 이들의 관계를 생각해보면 이렇다. 공백의 개수는 전체 층의 개수에서 현재 층을 뺀 것이고, 별의 개수는 현재 층 만큼이다. 이를 이용하여 중첩 for문을 사용하면 이 문제를 해결할 수 있다. "
   ]
  },
  {
   "cell_type": "markdown",
   "metadata": {},
   "source": [
    "### ACM-ICPC 문제 1924번"
   ]
  },
  {
   "cell_type": "markdown",
   "metadata": {},
   "source": [
    "* 오늘은 2007년 1월 1일 월요일이다. 그렇다면 2007년 x월 y일은 무슨 요일일까? 이를 알아내는 프로그램을 작성하시오.\n",
    "    * 입력 : 첫째 줄에 빈 칸을 사이에 두고 x(1≤x≤12)와 y(1≤y≤31)이 주어진다. 참고로 2007년에는 1, 3, 5, 7, 8, 10, 12월은 31일까지, 4, 6, 9, 11월은 30일까지, 2월은 28일까지 있다.\n",
    "    * 출력 : 첫째 줄에 x월 y일이 무슨 요일인지에 따라 SUN, MON, TUE, WED, THU, FRI, SAT중 하나를 출력한다."
   ]
  },
  {
   "cell_type": "code",
   "execution_count": 41,
   "metadata": {},
   "outputs": [
    {
     "name": "stdout",
     "output_type": "stream",
     "text": [
      "1 1\n",
      "MON\n"
     ]
    }
   ],
   "source": [
    "m,d = map(int, input().split())\n",
    "\n",
    "month = [31, 28, 31, 30, 31, 30, 31, 31, 30, 31, 30, 31]\n",
    "days = 0\n",
    "\n",
    "for x in range(0, m-1):\n",
    "    days = days + month[x]\n",
    "    \n",
    "days = days + d - 1\n",
    "date = days % 7\n",
    "\n",
    "if date == 0:\n",
    "    print(\"MON\")\n",
    "elif date == 1:\n",
    "    print(\"TUE\")\n",
    "elif date == 2:\n",
    "    print(\"WED\")\n",
    "elif date == 3:\n",
    "    print(\"THU\")\n",
    "elif date == 4:\n",
    "    print(\"FRI\")\n",
    "elif date == 5:\n",
    "    print(\"SAT\")\n",
    "elif date == 6:\n",
    "    print(\"SUN\")"
   ]
  },
  {
   "cell_type": "markdown",
   "metadata": {},
   "source": [
    "![image description](https://github.com/Sonchaeyoun/2017-Script-Programming/blob/master/image/1924.PNG?raw=true)"
   ]
  },
  {
   "cell_type": "markdown",
   "metadata": {},
   "source": [
    "이 문제를 풀기 위해서는 매 요일은 7일에 한 번씩 돌아온다는 것을 숙지하고 있어야 한다. 사용자가 입력한 날짜의 요일을 구하려면 2007년 1월 1일 부터 그 날짜까지의 모든 날을 다 세어 7로 나누어야 하므로 for문을 사용한다. for문을 사용해 각 달에 해당하는 날짜들을 다 더한 뒤 사용자가 입력한 날짜에서 하루를 뺀 것까지 더해 주어 나누어져야 할 것이 총 몇일인지 구한다. 이를 7로 나누어 if문에서 본격적으로 요일을 출력하는데, 2007년 1월 1일이 월요일이었으므로 나눗셈의 나머지가 0인것부터가 월요일이다. 이렇게 하면 이 문제를 해결할 수 있다."
   ]
  },
  {
   "cell_type": "markdown",
   "metadata": {},
   "source": [
    "### ACM-ICPC 문제 11720번"
   ]
  },
  {
   "cell_type": "markdown",
   "metadata": {},
   "source": [
    "* N개의 숫자가 공백 없이 쓰여있다. 이 숫자를 모두 합해서 출력하는 프로그램을 작성하시오.\n",
    "    * 입력 : 첫째 줄에 숫자의 개수 N (1 ≤ N ≤ 100)이 주어진다. 둘째 줄에 숫자 N개가 공백없이 주어진다.\n",
    "    * 출력 : 입력으로 주어진 숫자 N개의 합을 출력한다."
   ]
  },
  {
   "cell_type": "code",
   "execution_count": 51,
   "metadata": {},
   "outputs": [
    {
     "name": "stdout",
     "output_type": "stream",
     "text": [
      "5\n",
      "54321\n",
      "15\n"
     ]
    }
   ],
   "source": [
    "n = int(input())\n",
    "nums = input()\n",
    "sum = 0\n",
    "for x in range(0, n):\n",
    "    sum += int(nums[x])\n",
    "print(sum)"
   ]
  },
  {
   "cell_type": "markdown",
   "metadata": {},
   "source": [
    "![image description](https://github.com/Sonchaeyoun/2017-Script-Programming/blob/master/image/11720.PNG?raw=true)"
   ]
  },
  {
   "cell_type": "markdown",
   "metadata": {},
   "source": [
    "이 문제는 N개의 숫자가 공백 없이 쓰여있는 것을 원하기 때문에 N개의 숫자들을 문자열로 입력받아야 한다. 그리고 이들을 더하기 위해 for문을 사용해서 미리 선언해 둔 숫자들의 합을 저장할 변수 sum에 누적하여 더한다. 그런데 이때 N개의 숫자들을 문자열로 받았으므로 이들을 int형으로 바꿔주기 위해 int(nums[x])를 해준다. 이렇게 하면 이 문제를 해결할 수 있다."
   ]
  },
  {
   "cell_type": "markdown",
   "metadata": {},
   "source": [
    "### 숙제이후 소감"
   ]
  },
  {
   "cell_type": "markdown",
   "metadata": {},
   "source": [
    "컴퓨터공학부에 진학한 후로 다양한 언어들을 배워왔고, 지금도 배우고 있습니다. 언어를 하나하나 배워갈 때마다 그 각각의 매력을 발견하면서 즐거움을 느끼곤 하는데, 이번에 처음 접한 파이썬은 지금까지 배워왔던 언어들 중 가장 매력이 넘치는 언어가 아닐까 하는 생각을 합니다. 교수님의 강의를 들으며 파이썬이 다른 언어들에 비해 조금 특이하다는 생각은 했지만 과제를 수행하며 이를 직접 다뤄보니 다른 언어들로 프로그래밍 하면 코드 길이가 매우 길어지는 프로그램도 파이썬으로 프로그래밍하니 코드가 매우 깔끔해지고 짧아져 놀랐습니다. 이러한 부분 때문에 파이썬이 매력적으로 느껴지는 것 같습니다. 이번 과제를 수행하면서 보통의 언어들과 다른 부분이 많아 힘든 점도 많았지만 이런 부분들은 공부를 좀 더 해서 파이썬에 익숙해지면 나아지리라 생각합니다. 스크립트 프로그래밍을 수강하면서 처음 사용해 본 jupyter notebook도 정말 좋았습니다. 한글 문서로 작성하는 보통의 보고서들보다 깔끔하고 정리가 잘 되는 느낌입니다. 또한, 수행 결과를 바로바로 넣을 수 있다는 점도 편리했습니다. 앞으로도 교수님의 강의를 열심히 듣고, 과제도 열심히 하여 프로그래밍 실력을 키우도록 노력하겠습니다. "
   ]
  }
 ],
 "metadata": {
  "kernelspec": {
   "display_name": "Python 3",
   "language": "python",
   "name": "python3"
  },
  "language_info": {
   "codemirror_mode": {
    "name": "ipython",
    "version": 3
   },
   "file_extension": ".py",
   "mimetype": "text/x-python",
   "name": "python",
   "nbconvert_exporter": "python",
   "pygments_lexer": "ipython3",
   "version": "3.6.1"
  }
 },
 "nbformat": 4,
 "nbformat_minor": 2
}
